{
  "nbformat": 4,
  "nbformat_minor": 0,
  "metadata": {
    "colab": {
      "provenance": [],
      "gpuType": "T4"
    },
    "kernelspec": {
      "name": "python3",
      "display_name": "Python 3"
    },
    "language_info": {
      "name": "python"
    },
    "accelerator": "GPU"
  },
  "cells": [
    {
      "cell_type": "markdown",
      "source": [
        "### **Image Classification of Common Food Ingredients**\n",
        "\n",
        "Developing a machine learning model to recognize and classify images of common food ingredients, including meat (daging), vegetables (tomat, kentang, wortel, brokoli, bayam), tofu (tahu), tempe, eggs (telur), shrimp (udang), fish (ikan), and chicken (ayam), using Convolutional Neural Networks (CNN) in TensorFlow..\n",
        "\n"
      ],
      "metadata": {
        "id": "H6WcBxTRvYUL"
      }
    },
    {
      "cell_type": "code",
      "source": [
        "from google.colab import drive\n",
        "drive.mount('/content/drive')"
      ],
      "metadata": {
        "colab": {
          "base_uri": "https://localhost:8080/"
        },
        "id": "p_D8G2u-yzVF",
        "outputId": "3e3d1f0f-7f5e-4fac-b58d-65b5052165c3"
      },
      "execution_count": 1,
      "outputs": [
        {
          "output_type": "stream",
          "name": "stdout",
          "text": [
            "Mounted at /content/drive\n"
          ]
        }
      ]
    },
    {
      "cell_type": "markdown",
      "source": [
        "### **Import Libraries**\n",
        "\n",
        "\n"
      ],
      "metadata": {
        "id": "zQJde5U5xc4L"
      }
    },
    {
      "cell_type": "code",
      "source": [
        "import os\n",
        "import shutil\n",
        "import numpy as np\n",
        "import json\n",
        "import matplotlib.pyplot as plt\n",
        "from sklearn.model_selection import train_test_split\n",
        "import tensorflow as tf\n",
        "from tensorflow.keras import layers, models\n",
        "from tensorflow.keras.models import Sequential\n",
        "from tensorflow.keras.preprocessing.image import ImageDataGenerator\n",
        "from tensorflow.keras.applications import MobileNetV2\n",
        "from tensorflow.keras.layers import Dense, GlobalAveragePooling2D, Dropout\n",
        "from tensorflow.keras.callbacks import EarlyStopping, ReduceLROnPlateau\n",
        "from tensorflow.keras.utils import load_img, img_to_array\n",
        "from google.colab import files"
      ],
      "metadata": {
        "id": "u_PhuKuExmkD"
      },
      "execution_count": 2,
      "outputs": []
    },
    {
      "cell_type": "markdown",
      "source": [
        "### **Preparing Dataset**"
      ],
      "metadata": {
        "id": "lTOM4vKt0_lo"
      }
    },
    {
      "cell_type": "markdown",
      "source": [
        "Data splitting for training and validation."
      ],
      "metadata": {
        "id": "1DZx-yqozL-7"
      }
    },
    {
      "cell_type": "code",
      "source": [
        "# Path to the dataset folder\n",
        "dataset_dir = '/content/drive/My Drive/dataset'\n",
        "\n",
        "# Create folders for training and validation datasets\n",
        "train_dir = os.path.join(dataset_dir, \"training\")\n",
        "val_dir = os.path.join(dataset_dir, \"validation\")\n",
        "\n",
        "os.makedirs(train_dir, exist_ok=True)\n",
        "os.makedirs(val_dir, exist_ok=True)\n",
        "\n",
        "# Define classes based on the dataset\n",
        "classes = [\n",
        "    \"Daging\", \"Tomat\", \"Kentang\", \"Tahu\", \"Wortel\",\n",
        "    \"Telur\", \"Udang\", \"Brokoli\", \"Ayam\", \"Bayam\",\n",
        "    \"Ikan\", \"Tempe\"\n",
        "]"
      ],
      "metadata": {
        "id": "gF7seFda1BDj"
      },
      "execution_count": null,
      "outputs": []
    },
    {
      "cell_type": "code",
      "source": [
        "# Loop through each class folder and split the dataset (80% train, 20% validation)\n",
        "for class_name in classes:\n",
        "    class_path = os.path.join(dataset_dir, class_name)\n",
        "\n",
        "    if not os.path.isdir(class_path):\n",
        "        continue\n",
        "\n",
        "    files = os.listdir(class_path)\n",
        "    train_files, val_files = train_test_split(files, test_size=0.2, random_state=42)\n",
        "\n",
        "    # Create directories for training and validation\n",
        "    train_class_dir = os.path.join(train_dir, class_name)  # Folder for this class in the training set\n",
        "    val_class_dir = os.path.join(val_dir, class_name)      # Folder for this class in the validation set\n",
        "\n",
        "    os.makedirs(train_class_dir, exist_ok=True)\n",
        "    os.makedirs(val_class_dir, exist_ok=True)\n",
        "\n",
        "    # Copy files to the training and validation directories\n",
        "    for file in train_files:\n",
        "        shutil.copy(os.path.join(class_path, file), os.path.join(train_class_dir, file))\n",
        "\n",
        "    for file in val_files:\n",
        "        shutil.copy(os.path.join(class_path, file), os.path.join(val_class_dir, file))"
      ],
      "metadata": {
        "id": "jxkZEBxwsT_4"
      },
      "execution_count": null,
      "outputs": []
    },
    {
      "cell_type": "markdown",
      "source": [
        "Dataset is successfully split and saved into the respective directories."
      ],
      "metadata": {
        "id": "4JAOhgZ-ytvY"
      }
    },
    {
      "cell_type": "code",
      "source": [
        "# Inspect the dataset after splitting\n",
        "for class_name in classes:\n",
        "    train_class_dir = os.path.join(train_dir, class_name)\n",
        "    val_class_dir = os.path.join(val_dir, class_name)\n",
        "\n",
        "    print(f\"Class '{class_name}':\")\n",
        "    print(f\" - Train set contains {len(os.listdir(train_class_dir))} files.\")\n",
        "    print(f\" - Validation set contains {len(os.listdir(val_class_dir))} files.\")"
      ],
      "metadata": {
        "colab": {
          "base_uri": "https://localhost:8080/"
        },
        "id": "gtIDr12Ksf0I",
        "outputId": "1d7c2f67-8fed-4c65-8cc9-8b72abd226ed"
      },
      "execution_count": null,
      "outputs": [
        {
          "output_type": "stream",
          "name": "stdout",
          "text": [
            "Class 'Daging':\n",
            " - Train set contains 330 files.\n",
            " - Validation set contains 83 files.\n",
            "Class 'Tomat':\n",
            " - Train set contains 325 files.\n",
            " - Validation set contains 82 files.\n",
            "Class 'Kentang':\n",
            " - Train set contains 307 files.\n",
            " - Validation set contains 77 files.\n",
            "Class 'Tahu':\n",
            " - Train set contains 316 files.\n",
            " - Validation set contains 80 files.\n",
            "Class 'Wortel':\n",
            " - Train set contains 312 files.\n",
            " - Validation set contains 78 files.\n",
            "Class 'Telur':\n",
            " - Train set contains 328 files.\n",
            " - Validation set contains 83 files.\n",
            "Class 'Udang':\n",
            " - Train set contains 326 files.\n",
            " - Validation set contains 82 files.\n",
            "Class 'Brokoli':\n",
            " - Train set contains 320 files.\n",
            " - Validation set contains 81 files.\n",
            "Class 'Ayam':\n",
            " - Train set contains 320 files.\n",
            " - Validation set contains 80 files.\n",
            "Class 'Bayam':\n",
            " - Train set contains 301 files.\n",
            " - Validation set contains 76 files.\n",
            "Class 'Ikan':\n",
            " - Train set contains 321 files.\n",
            " - Validation set contains 81 files.\n",
            "Class 'Tempe':\n",
            " - Train set contains 320 files.\n",
            " - Validation set contains 80 files.\n"
          ]
        }
      ]
    },
    {
      "cell_type": "markdown",
      "source": [
        "Data augmentation."
      ],
      "metadata": {
        "id": "BAwtcPKPzemF"
      }
    },
    {
      "cell_type": "code",
      "source": [
        "# Define paths for training and validation datasets\n",
        "train_dir = '/content/drive/My Drive/dataset/training'\n",
        "val_dir = '/content/drive/My Drive/dataset/validation'\n",
        "\n",
        "# Data Augmentation for Training (used to enhance training data with random transformations)\n",
        "train_datagen = ImageDataGenerator(\n",
        "    rescale=1./255,\n",
        "    rotation_range=40,\n",
        "    width_shift_range=0.2,\n",
        "    height_shift_range=0.2,\n",
        "    shear_range=0.2,\n",
        "    zoom_range=0.2,\n",
        "    horizontal_flip=True,\n",
        "    vertical_flip=True,\n",
        "    fill_mode='nearest'\n",
        ")\n",
        "\n",
        "# Data Augmentation for Validation (without augmentation, only rescaling)\n",
        "val_datagen = ImageDataGenerator(rescale=1./255)\n",
        "\n",
        "# Create data generators for training and validation\n",
        "train_generator = train_datagen.flow_from_directory(\n",
        "    train_dir,\n",
        "    target_size=(224, 224),\n",
        "    batch_size=16,\n",
        "    class_mode='categorical'\n",
        ")\n",
        "\n",
        "val_generator = val_datagen.flow_from_directory(\n",
        "    val_dir,\n",
        "    target_size=(224, 224),\n",
        "    batch_size=16,\n",
        "    class_mode='categorical'\n",
        ")"
      ],
      "metadata": {
        "colab": {
          "base_uri": "https://localhost:8080/"
        },
        "id": "BrOKkErDziqa",
        "outputId": "1e3eefba-9976-4918-90c5-d6a6e27acd0e"
      },
      "execution_count": 4,
      "outputs": [
        {
          "output_type": "stream",
          "name": "stdout",
          "text": [
            "Found 3826 images belonging to 12 classes.\n",
            "Found 963 images belonging to 12 classes.\n"
          ]
        }
      ]
    },
    {
      "cell_type": "code",
      "source": [
        "# Jika menggunakan ImageDataGenerator dan flow_from_directory\n",
        "class_indices = train_generator.class_indices\n",
        "print(class_indices)"
      ],
      "metadata": {
        "id": "_mAMvuL3-tXx",
        "outputId": "b53111be-493e-432a-fa4e-265485d3e896",
        "colab": {
          "base_uri": "https://localhost:8080/"
        }
      },
      "execution_count": null,
      "outputs": [
        {
          "output_type": "stream",
          "name": "stdout",
          "text": [
            "{'Ayam': 0, 'Bayam': 1, 'Brokoli': 2, 'Daging': 3, 'Ikan': 4, 'Kentang': 5, 'Tahu': 6, 'Telur': 7, 'Tempe': 8, 'Tomat': 9, 'Udang': 10, 'Wortel': 11}\n"
          ]
        }
      ]
    },
    {
      "cell_type": "markdown",
      "source": [
        "### **Build Model**"
      ],
      "metadata": {
        "id": "DZRrsDmj0nod"
      }
    },
    {
      "cell_type": "markdown",
      "source": [
        "Base model."
      ],
      "metadata": {
        "id": "R7uOHym51mqP"
      }
    },
    {
      "cell_type": "code",
      "source": [
        "# Load MobileNetV2 base model with pre-trained weights from ImageNet\n",
        "base_model = MobileNetV2(input_shape=(224, 224, 3), include_top=False, weights='imagenet')\n",
        "base_model.trainable = False\n",
        "\n",
        "# Add custom layers on top of MobileNetV2\n",
        "model = Sequential([\n",
        "    base_model,\n",
        "    GlobalAveragePooling2D(),\n",
        "    Dense(512, activation='relu'),\n",
        "    Dropout(0.5),\n",
        "    Dense(12, activation='softmax')\n",
        "])\n",
        "\n",
        "# Compile the model with Adam optimizer and categorical cross-entropy loss\n",
        "model.compile(optimizer=tf.keras.optimizers.Adam(learning_rate=0.001),\n",
        "              loss='categorical_crossentropy',\n",
        "              metrics=['accuracy'])\n",
        "\n",
        "# Define early stopping and learning rate scheduler to improve training\n",
        "early_stop = EarlyStopping(monitor='val_loss', patience=10, restore_best_weights=True)\n",
        "lr_scheduler = ReduceLROnPlateau(monitor='val_loss', factor=0.5, patience=5)"
      ],
      "metadata": {
        "id": "WDEmN4X_0eIe"
      },
      "execution_count": null,
      "outputs": []
    },
    {
      "cell_type": "markdown",
      "source": [
        "Train the base model."
      ],
      "metadata": {
        "id": "zItuRZRR12n0"
      }
    },
    {
      "cell_type": "code",
      "source": [
        "# Train the model with the training and validation data generators\n",
        "history = model.fit(\n",
        "    train_generator,\n",
        "    validation_data=val_generator,\n",
        "    epochs=20,\n",
        "    callbacks=[early_stop, lr_scheduler]\n",
        ")\n",
        "\n",
        "# Save the trained model to Google Drive\n",
        "model.save('/content/drive/My Drive/classifier_base.h5')\n",
        "print(\"Model saved to Google Drive!\")"
      ],
      "metadata": {
        "colab": {
          "base_uri": "https://localhost:8080/"
        },
        "id": "0Pi80Mbv11P1",
        "outputId": "22ab3ff7-35c0-4859-cb77-20f305fcd11a"
      },
      "execution_count": null,
      "outputs": [
        {
          "output_type": "stream",
          "name": "stdout",
          "text": [
            "Epoch 1/20\n",
            "\u001b[1m240/240\u001b[0m \u001b[32m━━━━━━━━━━━━━━━━━━━━\u001b[0m\u001b[37m\u001b[0m \u001b[1m82s\u001b[0m 302ms/step - accuracy: 0.4973 - loss: 1.6987 - val_accuracy: 0.8048 - val_loss: 0.6054 - learning_rate: 0.0010\n",
            "Epoch 2/20\n",
            "\u001b[1m240/240\u001b[0m \u001b[32m━━━━━━━━━━━━━━━━━━━━\u001b[0m\u001b[37m\u001b[0m \u001b[1m74s\u001b[0m 274ms/step - accuracy: 0.7551 - loss: 0.7518 - val_accuracy: 0.7840 - val_loss: 0.6660 - learning_rate: 0.0010\n",
            "Epoch 3/20\n",
            "\u001b[1m240/240\u001b[0m \u001b[32m━━━━━━━━━━━━━━━━━━━━\u001b[0m\u001b[37m\u001b[0m \u001b[1m83s\u001b[0m 279ms/step - accuracy: 0.7693 - loss: 0.7356 - val_accuracy: 0.8204 - val_loss: 0.5628 - learning_rate: 0.0010\n",
            "Epoch 4/20\n",
            "\u001b[1m240/240\u001b[0m \u001b[32m━━━━━━━━━━━━━━━━━━━━\u001b[0m\u001b[37m\u001b[0m \u001b[1m68s\u001b[0m 275ms/step - accuracy: 0.7925 - loss: 0.6356 - val_accuracy: 0.8017 - val_loss: 0.6036 - learning_rate: 0.0010\n",
            "Epoch 5/20\n",
            "\u001b[1m240/240\u001b[0m \u001b[32m━━━━━━━━━━━━━━━━━━━━\u001b[0m\u001b[37m\u001b[0m \u001b[1m67s\u001b[0m 272ms/step - accuracy: 0.7970 - loss: 0.6084 - val_accuracy: 0.8183 - val_loss: 0.5559 - learning_rate: 0.0010\n",
            "Epoch 6/20\n",
            "\u001b[1m240/240\u001b[0m \u001b[32m━━━━━━━━━━━━━━━━━━━━\u001b[0m\u001b[37m\u001b[0m \u001b[1m68s\u001b[0m 275ms/step - accuracy: 0.8091 - loss: 0.5974 - val_accuracy: 0.8069 - val_loss: 0.5734 - learning_rate: 0.0010\n",
            "Epoch 7/20\n",
            "\u001b[1m240/240\u001b[0m \u001b[32m━━━━━━━━━━━━━━━━━━━━\u001b[0m\u001b[37m\u001b[0m \u001b[1m81s\u001b[0m 275ms/step - accuracy: 0.8392 - loss: 0.5262 - val_accuracy: 0.8131 - val_loss: 0.5765 - learning_rate: 0.0010\n",
            "Epoch 8/20\n",
            "\u001b[1m240/240\u001b[0m \u001b[32m━━━━━━━━━━━━━━━━━━━━\u001b[0m\u001b[37m\u001b[0m \u001b[1m72s\u001b[0m 293ms/step - accuracy: 0.8146 - loss: 0.5590 - val_accuracy: 0.8141 - val_loss: 0.5666 - learning_rate: 0.0010\n",
            "Epoch 9/20\n",
            "\u001b[1m240/240\u001b[0m \u001b[32m━━━━━━━━━━━━━━━━━━━━\u001b[0m\u001b[37m\u001b[0m \u001b[1m77s\u001b[0m 274ms/step - accuracy: 0.8266 - loss: 0.5183 - val_accuracy: 0.8349 - val_loss: 0.5475 - learning_rate: 0.0010\n",
            "Epoch 10/20\n",
            "\u001b[1m240/240\u001b[0m \u001b[32m━━━━━━━━━━━━━━━━━━━━\u001b[0m\u001b[37m\u001b[0m \u001b[1m86s\u001b[0m 292ms/step - accuracy: 0.8470 - loss: 0.4633 - val_accuracy: 0.8339 - val_loss: 0.5260 - learning_rate: 0.0010\n",
            "Epoch 11/20\n",
            "\u001b[1m240/240\u001b[0m \u001b[32m━━━━━━━━━━━━━━━━━━━━\u001b[0m\u001b[37m\u001b[0m \u001b[1m77s\u001b[0m 270ms/step - accuracy: 0.8467 - loss: 0.4675 - val_accuracy: 0.8307 - val_loss: 0.5684 - learning_rate: 0.0010\n",
            "Epoch 12/20\n",
            "\u001b[1m240/240\u001b[0m \u001b[32m━━━━━━━━━━━━━━━━━━━━\u001b[0m\u001b[37m\u001b[0m \u001b[1m87s\u001b[0m 292ms/step - accuracy: 0.8516 - loss: 0.4748 - val_accuracy: 0.8287 - val_loss: 0.5662 - learning_rate: 0.0010\n",
            "Epoch 13/20\n",
            "\u001b[1m240/240\u001b[0m \u001b[32m━━━━━━━━━━━━━━━━━━━━\u001b[0m\u001b[37m\u001b[0m \u001b[1m72s\u001b[0m 294ms/step - accuracy: 0.8389 - loss: 0.4935 - val_accuracy: 0.8370 - val_loss: 0.5684 - learning_rate: 0.0010\n",
            "Epoch 14/20\n",
            "\u001b[1m240/240\u001b[0m \u001b[32m━━━━━━━━━━━━━━━━━━━━\u001b[0m\u001b[37m\u001b[0m \u001b[1m76s\u001b[0m 269ms/step - accuracy: 0.8560 - loss: 0.4303 - val_accuracy: 0.8276 - val_loss: 0.5667 - learning_rate: 0.0010\n",
            "Epoch 15/20\n",
            "\u001b[1m240/240\u001b[0m \u001b[32m━━━━━━━━━━━━━━━━━━━━\u001b[0m\u001b[37m\u001b[0m \u001b[1m87s\u001b[0m 293ms/step - accuracy: 0.8482 - loss: 0.4389 - val_accuracy: 0.8110 - val_loss: 0.5706 - learning_rate: 0.0010\n",
            "Epoch 16/20\n",
            "\u001b[1m240/240\u001b[0m \u001b[32m━━━━━━━━━━━━━━━━━━━━\u001b[0m\u001b[37m\u001b[0m \u001b[1m81s\u001b[0m 290ms/step - accuracy: 0.8621 - loss: 0.4028 - val_accuracy: 0.8401 - val_loss: 0.5321 - learning_rate: 5.0000e-04\n",
            "Epoch 17/20\n",
            "\u001b[1m240/240\u001b[0m \u001b[32m━━━━━━━━━━━━━━━━━━━━\u001b[0m\u001b[37m\u001b[0m \u001b[1m67s\u001b[0m 275ms/step - accuracy: 0.8857 - loss: 0.3245 - val_accuracy: 0.8484 - val_loss: 0.5464 - learning_rate: 5.0000e-04\n",
            "Epoch 18/20\n",
            "\u001b[1m240/240\u001b[0m \u001b[32m━━━━━━━━━━━━━━━━━━━━\u001b[0m\u001b[37m\u001b[0m \u001b[1m88s\u001b[0m 300ms/step - accuracy: 0.8930 - loss: 0.3263 - val_accuracy: 0.8536 - val_loss: 0.5604 - learning_rate: 5.0000e-04\n",
            "Epoch 19/20\n",
            "\u001b[1m240/240\u001b[0m \u001b[32m━━━━━━━━━━━━━━━━━━━━\u001b[0m\u001b[37m\u001b[0m \u001b[1m68s\u001b[0m 276ms/step - accuracy: 0.8810 - loss: 0.3330 - val_accuracy: 0.8411 - val_loss: 0.5618 - learning_rate: 5.0000e-04\n",
            "Epoch 20/20\n",
            "\u001b[1m240/240\u001b[0m \u001b[32m━━━━━━━━━━━━━━━━━━━━\u001b[0m\u001b[37m\u001b[0m \u001b[1m86s\u001b[0m 293ms/step - accuracy: 0.8892 - loss: 0.3285 - val_accuracy: 0.8557 - val_loss: 0.5479 - learning_rate: 5.0000e-04\n"
          ]
        },
        {
          "output_type": "stream",
          "name": "stderr",
          "text": [
            "WARNING:absl:You are saving your model as an HDF5 file via `model.save()` or `keras.saving.save_model(model)`. This file format is considered legacy. We recommend using instead the native Keras format, e.g. `model.save('my_model.keras')` or `keras.saving.save_model(model, 'my_model.keras')`. \n"
          ]
        },
        {
          "output_type": "stream",
          "name": "stdout",
          "text": [
            "Model saved to Google Drive!\n"
          ]
        }
      ]
    },
    {
      "cell_type": "markdown",
      "source": [
        "Fine-tuned model."
      ],
      "metadata": {
        "id": "KuGN5Ka91w1e"
      }
    },
    {
      "cell_type": "code",
      "source": [
        "# Unfreeze the last few layers of MobileNetV2\n",
        "base_model.trainable = True\n",
        "for layer in base_model.layers[:-50]:  # Freeze most of the early layers\n",
        "    layer.trainable = False\n",
        "\n",
        "# Recompile the model with a smaller learning rate\n",
        "model.compile(optimizer=tf.keras.optimizers.Adam(learning_rate=0.0001),\n",
        "              loss='categorical_crossentropy',\n",
        "              metrics=['accuracy'])"
      ],
      "metadata": {
        "id": "_R2kWPJu2QE2"
      },
      "execution_count": null,
      "outputs": []
    },
    {
      "cell_type": "code",
      "source": [
        "# Fine-tuning the model\n",
        "history_fine = model.fit(\n",
        "    train_generator,\n",
        "    validation_data=val_generator,\n",
        "    epochs=10,\n",
        "    callbacks=[early_stop, lr_scheduler]\n",
        ")\n",
        "\n",
        "# Save the fine-tuned model\n",
        "model.save('/content/drive/My Drive/classifier_finetuned.h5')\n",
        "print(\"Fine-tuned model saved to Google Drive!\")"
      ],
      "metadata": {
        "colab": {
          "base_uri": "https://localhost:8080/"
        },
        "id": "p-PjZ1B1HBq-",
        "outputId": "bf7fcf09-f849-4cea-b6da-c751684c5437"
      },
      "execution_count": null,
      "outputs": [
        {
          "output_type": "stream",
          "name": "stdout",
          "text": [
            "Epoch 1/10\n",
            "\u001b[1m240/240\u001b[0m \u001b[32m━━━━━━━━━━━━━━━━━━━━\u001b[0m\u001b[37m\u001b[0m \u001b[1m98s\u001b[0m 328ms/step - accuracy: 0.7465 - loss: 0.7914 - val_accuracy: 0.8224 - val_loss: 0.6522 - learning_rate: 1.0000e-04\n",
            "Epoch 2/10\n",
            "\u001b[1m240/240\u001b[0m \u001b[32m━━━━━━━━━━━━━━━━━━━━\u001b[0m\u001b[37m\u001b[0m \u001b[1m72s\u001b[0m 295ms/step - accuracy: 0.8290 - loss: 0.5352 - val_accuracy: 0.8214 - val_loss: 0.6760 - learning_rate: 1.0000e-04\n",
            "Epoch 3/10\n",
            "\u001b[1m240/240\u001b[0m \u001b[32m━━━━━━━━━━━━━━━━━━━━\u001b[0m\u001b[37m\u001b[0m \u001b[1m69s\u001b[0m 279ms/step - accuracy: 0.8546 - loss: 0.4585 - val_accuracy: 0.8089 - val_loss: 0.8742 - learning_rate: 1.0000e-04\n",
            "Epoch 4/10\n",
            "\u001b[1m240/240\u001b[0m \u001b[32m━━━━━━━━━━━━━━━━━━━━\u001b[0m\u001b[37m\u001b[0m \u001b[1m86s\u001b[0m 298ms/step - accuracy: 0.8849 - loss: 0.3564 - val_accuracy: 0.8339 - val_loss: 0.7304 - learning_rate: 1.0000e-04\n",
            "Epoch 5/10\n",
            "\u001b[1m240/240\u001b[0m \u001b[32m━━━━━━━━━━━━━━━━━━━━\u001b[0m\u001b[37m\u001b[0m \u001b[1m73s\u001b[0m 299ms/step - accuracy: 0.8805 - loss: 0.3526 - val_accuracy: 0.8380 - val_loss: 0.7426 - learning_rate: 1.0000e-04\n",
            "Epoch 6/10\n",
            "\u001b[1m240/240\u001b[0m \u001b[32m━━━━━━━━━━━━━━━━━━━━\u001b[0m\u001b[37m\u001b[0m \u001b[1m69s\u001b[0m 280ms/step - accuracy: 0.8933 - loss: 0.3289 - val_accuracy: 0.8297 - val_loss: 0.7285 - learning_rate: 1.0000e-04\n",
            "Epoch 7/10\n",
            "\u001b[1m240/240\u001b[0m \u001b[32m━━━━━━━━━━━━━━━━━━━━\u001b[0m\u001b[37m\u001b[0m \u001b[1m69s\u001b[0m 280ms/step - accuracy: 0.9149 - loss: 0.2774 - val_accuracy: 0.8598 - val_loss: 0.6205 - learning_rate: 5.0000e-05\n",
            "Epoch 8/10\n",
            "\u001b[1m240/240\u001b[0m \u001b[32m━━━━━━━━━━━━━━━━━━━━\u001b[0m\u001b[37m\u001b[0m \u001b[1m69s\u001b[0m 279ms/step - accuracy: 0.9194 - loss: 0.2454 - val_accuracy: 0.8754 - val_loss: 0.5413 - learning_rate: 5.0000e-05\n",
            "Epoch 9/10\n",
            "\u001b[1m240/240\u001b[0m \u001b[32m━━━━━━━━━━━━━━━━━━━━\u001b[0m\u001b[37m\u001b[0m \u001b[1m70s\u001b[0m 280ms/step - accuracy: 0.9227 - loss: 0.2412 - val_accuracy: 0.8775 - val_loss: 0.5680 - learning_rate: 5.0000e-05\n",
            "Epoch 10/10\n",
            "\u001b[1m240/240\u001b[0m \u001b[32m━━━━━━━━━━━━━━━━━━━━\u001b[0m\u001b[37m\u001b[0m \u001b[1m69s\u001b[0m 280ms/step - accuracy: 0.9256 - loss: 0.2107 - val_accuracy: 0.8806 - val_loss: 0.5458 - learning_rate: 5.0000e-05\n"
          ]
        },
        {
          "output_type": "stream",
          "name": "stderr",
          "text": [
            "WARNING:absl:You are saving your model as an HDF5 file via `model.save()` or `keras.saving.save_model(model)`. This file format is considered legacy. We recommend using instead the native Keras format, e.g. `model.save('my_model.keras')` or `keras.saving.save_model(model, 'my_model.keras')`. \n"
          ]
        },
        {
          "output_type": "stream",
          "name": "stdout",
          "text": [
            "Fine-tuned model saved to Google Drive!\n"
          ]
        }
      ]
    },
    {
      "cell_type": "code",
      "source": [
        "# Plot training dan validation accuracy/loss\n",
        "acc = history.history['accuracy']\n",
        "val_acc = history.history['val_accuracy']\n",
        "loss = history.history['loss']\n",
        "val_loss = history.history['val_loss']\n",
        "\n",
        "epochs = range(1, len(acc) + 1)\n",
        "\n",
        "plt.figure(figsize=(12, 6))\n",
        "plt.subplot(1, 2, 1)\n",
        "plt.plot(epochs, acc, 'r', label='Training Accuracy')\n",
        "plt.plot(epochs, val_acc, 'b', label='Validation Accuracy')\n",
        "plt.title('Training and Validation Accuracy')\n",
        "plt.legend()\n",
        "\n",
        "plt.subplot(1, 2, 2)\n",
        "plt.plot(epochs, loss, 'r', label='Training Loss')\n",
        "plt.plot(epochs, val_loss, 'b', label='Validation Loss')\n",
        "plt.title('Training and Validation Loss')\n",
        "plt.legend()\n",
        "\n",
        "plt.show()\n"
      ],
      "metadata": {
        "colab": {
          "base_uri": "https://localhost:8080/",
          "height": 545
        },
        "id": "b4EINt5PJESw",
        "outputId": "73067b8d-1c86-4f17-c35a-f184c48659ae"
      },
      "execution_count": null,
      "outputs": [
        {
          "output_type": "display_data",
          "data": {
            "text/plain": [
              "<Figure size 1200x600 with 2 Axes>"
            ],
            "image/png": "[encoded data removed]"
          },
          "metadata": {}
        }
      ]
    },
    {
      "cell_type": "markdown",
      "source": [
        "### **Prediction**"
      ],
      "metadata": {
        "id": "cte-JEfq1BxD"
      }
    },
    {
      "cell_type": "code",
      "source": [
        "# Load the fine-tuned model\n",
        "model = tf.keras.models.load_model('/content/drive/My Drive/classifier_finetuned.h5')\n",
        "\n",
        "# Mapping class indices to class names\n",
        "class_indices = train_generator.class_indices\n",
        "class_names = {v: k for k, v in class_indices.items()}\n",
        "\n",
        "# Function to load recipes from a JSON file\n",
        "def load_recipes(file_path):\n",
        "    with open(file_path, 'r') as f:\n",
        "        recipes = json.load(f)\n",
        "    return recipes\n",
        "\n",
        "# Function to predict a single image\n",
        "def predict_image(image_path):\n",
        "    img = load_img(image_path, target_size=(224, 224))\n",
        "    img_array = img_to_array(img) / 255.0\n",
        "    img_array = np.expand_dims(img_array, axis=0)\n",
        "\n",
        "    predictions = model.predict(img_array)\n",
        "    predicted_class = np.argmax(predictions)\n",
        "    confidence = np.max(predictions)\n",
        "\n",
        "    return class_names[predicted_class], confidence\n",
        "\n",
        "# Function to provide recipe recommendations based on predicted class\n",
        "def recommend_recipe(predicted_class, recipes):\n",
        "    predicted_class = predicted_class.strip().lower()  # Remove extra spaces and convert to lowercase\n",
        "    print(f\"Predicted class after strip and lowercase: {predicted_class}\")  # Debugging\n",
        "\n",
        "    for recipe in recipes:\n",
        "        recipe_name = recipe[\"Nama Resep\"].strip().lower()  # Remove extra spaces and convert to lowercase\n",
        "\n",
        "        # Partial matching: check if the recipe name contains the predicted class name\n",
        "        if predicted_class in recipe_name:\n",
        "            return recipe\n",
        "\n",
        "    return None\n",
        "\n",
        "# Upload an image\n",
        "uploaded = files.upload()\n",
        "image_path = list(uploaded.keys())[0]  # Get the path of the uploaded image\n",
        "\n",
        "# Predict the image\n",
        "predicted_class, confidence = predict_image(image_path)\n",
        "print(f\"Predicted class: {predicted_class}\")\n",
        "print(f\"Confidence: {confidence:.2f}\")\n",
        "\n",
        "# Load recipes from the JSON file\n",
        "recipes = load_recipes('/content/drive/My Drive/recipes.json')  # Replace with your recipes.json file path\n",
        "\n",
        "# Provide recipe recommendations\n",
        "recipe_recommendation = recommend_recipe(predicted_class, recipes)\n",
        "if recipe_recommendation:\n",
        "    print(f\"Recipe Recommendation: {recipe_recommendation['Nama Resep']}\")\n",
        "    print(f\"Age Category: {recipe_recommendation['Kategori Usia']}\")\n",
        "    print(f\"Energy: {recipe_recommendation['Energi (kkal)']} kcal\")\n",
        "    print(f\"Protein: {recipe_recommendation['Protein (g)']} g\")\n",
        "    print(f\"Fat: {recipe_recommendation['Lemak (g)']} g\")\n",
        "    print(f\"Carbohydrates: {recipe_recommendation['Karbohidrat (g)']} g\")\n",
        "    print(f\"Ingredients: {recipe_recommendation['Bahan']}\")\n",
        "    print(f\"Cooking Instructions: {recipe_recommendation['Cara Memasak']}\")\n",
        "else:\n",
        "    print(\"No recipe found for this class.\")"
      ],
      "metadata": {
        "colab": {
          "base_uri": "https://localhost:8080/",
          "height": 319
        },
        "id": "zWkq47D85hYQ",
        "outputId": "374e7f6b-10b2-41f4-a11f-823722fb0101"
      },
      "execution_count": 14,
      "outputs": [
        {
          "output_type": "stream",
          "name": "stderr",
          "text": [
            "WARNING:absl:Compiled the loaded model, but the compiled metrics have yet to be built. `model.compile_metrics` will be empty until you train or evaluate the model.\n"
          ]
        },
        {
          "output_type": "display_data",
          "data": {
            "text/plain": [
              "<IPython.core.display.HTML object>"
            ],
            "text/html": [
              "\n",
              "     <input type=\"file\" id=\"files-b880670e-97c4-4c0c-a4bd-5a9a774ffd60\" name=\"files[]\" multiple disabled\n",
              "        style=\"border:none\" />\n",
              "     <output id=\"result-b880670e-97c4-4c0c-a4bd-5a9a774ffd60\">\n",
              "      Upload widget is only available when the cell has been executed in the\n",
              "      current browser session. Please rerun this cell to enable.\n",
              "      </output>\n",
              "      <script>// Copyright 2017 Google LLC\n",
              "//\n",
              "// Licensed under the Apache License, Version 2.0 (the \"License\");\n",
              "// you may not use this file except in compliance with the License.\n",
              "// You may obtain a copy of the License at\n",
              "//\n",
              "//      http://www.apache.org/licenses/LICENSE-2.0\n",
              "//\n",
              "// Unless required by applicable law or agreed to in writing, software\n",
              "// distributed under the License is distributed on an \"AS IS\" BASIS,\n",
              "// WITHOUT WARRANTIES OR CONDITIONS OF ANY KIND, either express or implied.\n",
              "// See the License for the specific language governing permissions and\n",
              "// limitations under the License.\n",
              "\n",
              "/**\n",
              " * @fileoverview Helpers for google.colab Python module.\n",
              " */\n",
              "(function(scope) {\n",
              "function span(text, styleAttributes = {}) {\n",
              "  const element = document.createElement('span');\n",
              "  element.textContent = text;\n",
              "  for (const key of Object.keys(styleAttributes)) {\n",
              "    element.style[key] = styleAttributes[key];\n",
              "  }\n",
              "  return element;\n",
              "}\n",
              "\n",
              "// Max number of bytes which will be uploaded at a time.\n",
              "const MAX_PAYLOAD_SIZE = 100 * 1024;\n",
              "\n",
              "function _uploadFiles(inputId, outputId) {\n",
              "  const steps = uploadFilesStep(inputId, outputId);\n",
              "  const outputElement = document.getElementById(outputId);\n",
              "  // Cache steps on the outputElement to make it available for the next call\n",
              "  // to uploadFilesContinue from Python.\n",
              "  outputElement.steps = steps;\n",
              "\n",
              "  return _uploadFilesContinue(outputId);\n",
              "}\n",
              "\n",
              "// This is roughly an async generator (not supported in the browser yet),\n",
              "// where there are multiple asynchronous steps and the Python side is going\n",
              "// to poll for completion of each step.\n",
              "// This uses a Promise to block the python side on completion of each step,\n",
              "// then passes the result of the previous step as the input to the next step.\n",
              "function _uploadFilesContinue(outputId) {\n",
              "  const outputElement = document.getElementById(outputId);\n",
              "  const steps = outputElement.steps;\n",
              "\n",
              "  const next = steps.next(outputElement.lastPromiseValue);\n",
              "  return Promise.resolve(next.value.promise).then((value) => {\n",
              "    // Cache the last promise value to make it available to the next\n",
              "    // step of the generator.\n",
              "    outputElement.lastPromiseValue = value;\n",
              "    return next.value.response;\n",
              "  });\n",
              "}\n",
              "\n",
              "/**\n",
              " * Generator function which is called between each async step of the upload\n",
              " * process.\n",
              " * @param {string} inputId Element ID of the input file picker element.\n",
              " * @param {string} outputId Element ID of the output display.\n",
              " * @return {!Iterable<!Object>} Iterable of next steps.\n",
              " */\n",
              "function* uploadFilesStep(inputId, outputId) {\n",
              "  const inputElement = document.getElementById(inputId);\n",
              "  inputElement.disabled = false;\n",
              "\n",
              "  const outputElement = document.getElementById(outputId);\n",
              "  outputElement.innerHTML = '';\n",
              "\n",
              "  const pickedPromise = new Promise((resolve) => {\n",
              "    inputElement.addEventListener('change', (e) => {\n",
              "      resolve(e.target.files);\n",
              "    });\n",
              "  });\n",
              "\n",
              "  const cancel = document.createElement('button');\n",
              "  inputElement.parentElement.appendChild(cancel);\n",
              "  cancel.textContent = 'Cancel upload';\n",
              "  const cancelPromise = new Promise((resolve) => {\n",
              "    cancel.onclick = () => {\n",
              "      resolve(null);\n",
              "    };\n",
              "  });\n",
              "\n",
              "  // Wait for the user to pick the files.\n",
              "  const files = yield {\n",
              "    promise: Promise.race([pickedPromise, cancelPromise]),\n",
              "    response: {\n",
              "      action: 'starting',\n",
              "    }\n",
              "  };\n",
              "\n",
              "  cancel.remove();\n",
              "\n",
              "  // Disable the input element since further picks are not allowed.\n",
              "  inputElement.disabled = true;\n",
              "\n",
              "  if (!files) {\n",
              "    return {\n",
              "      response: {\n",
              "        action: 'complete',\n",
              "      }\n",
              "    };\n",
              "  }\n",
              "\n",
              "  for (const file of files) {\n",
              "    const li = document.createElement('li');\n",
              "    li.append(span(file.name, {fontWeight: 'bold'}));\n",
              "    li.append(span(\n",
              "        `(${file.type || 'n/a'}) - ${file.size} bytes, ` +\n",
              "        `last modified: ${\n",
              "            file.lastModifiedDate ? file.lastModifiedDate.toLocaleDateString() :\n",
              "                                    'n/a'} - `));\n",
              "    const percent = span('0% done');\n",
              "    li.appendChild(percent);\n",
              "\n",
              "    outputElement.appendChild(li);\n",
              "\n",
              "    const fileDataPromise = new Promise((resolve) => {\n",
              "      const reader = new FileReader();\n",
              "      reader.onload = (e) => {\n",
              "        resolve(e.target.result);\n",
              "      };\n",
              "      reader.readAsArrayBuffer(file);\n",
              "    });\n",
              "    // Wait for the data to be ready.\n",
              "    let fileData = yield {\n",
              "      promise: fileDataPromise,\n",
              "      response: {\n",
              "        action: 'continue',\n",
              "      }\n",
              "    };\n",
              "\n",
              "    // Use a chunked sending to avoid message size limits. See b/62115660.\n",
              "    let position = 0;\n",
              "    do {\n",
              "      const length = Math.min(fileData.byteLength - position, MAX_PAYLOAD_SIZE);\n",
              "      const chunk = new Uint8Array(fileData, position, length);\n",
              "      position += length;\n",
              "\n",
              "      const base64 = btoa(String.fromCharCode.apply(null, chunk));\n",
              "      yield {\n",
              "        response: {\n",
              "          action: 'append',\n",
              "          file: file.name,\n",
              "          data: base64,\n",
              "        },\n",
              "      };\n",
              "\n",
              "      let percentDone = fileData.byteLength === 0 ?\n",
              "          100 :\n",
              "          Math.round((position / fileData.byteLength) * 100);\n",
              "      percent.textContent = `${percentDone}% done`;\n",
              "\n",
              "    } while (position < fileData.byteLength);\n",
              "  }\n",
              "\n",
              "  // All done.\n",
              "  yield {\n",
              "    response: {\n",
              "      action: 'complete',\n",
              "    }\n",
              "  };\n",
              "}\n",
              "\n",
              "scope.google = scope.google || {};\n",
              "scope.google.colab = scope.google.colab || {};\n",
              "scope.google.colab._files = {\n",
              "  _uploadFiles,\n",
              "  _uploadFilesContinue,\n",
              "};\n",
              "})(self);\n",
              "</script> "
            ]
          },
          "metadata": {}
        },
        {
          "output_type": "stream",
          "name": "stdout",
          "text": [
            "Saving test12.jpeg to test12.jpeg\n",
            "\u001b[1m1/1\u001b[0m \u001b[32m━━━━━━━━━━━━━━━━━━━━\u001b[0m\u001b[37m\u001b[0m \u001b[1m2s\u001b[0m 2s/step\n",
            "Predicted class: Brokoli\n",
            "Confidence: 1.00\n",
            "Predicted class after strip and lowercase: brokoli\n",
            "Recipe Recommendation: Cah Brokoli Sosis\n",
            "Age Category: > 1 tahun (untuk 2 porsi)\n",
            "Energy: 157.3 kcal\n",
            "Protein: 6.9 g\n",
            "Fat: 8.1 g\n",
            "Carbohydrates: 16.5 g\n",
            "Ingredients: 1. 100 gr brokoli, potong-potong, 2. 100 gr wortel, potong-potong, 3. 4 bh sosis sapi, iris, 4. 1 bh bawang bombay, iris, 5. 4 siung bawang putih, iris, 6. 1/2 sdt garam, 7. 1/2 sdt gula, 8. Air secukupnya, 9. Margarin secukupnya\n",
            "Cooking Instructions: 1. Panaskan margarin dan tumis bawang putih dan bawang bombay sampai harum, 2. Tambahkan air, tunggu hingga mendidih, kemudian tambahkan garam dan gula, 3. Masukkan sosis dan wortel, tunggu sampai wortel empuk, 4. Masukkan brokoli, aduk sampai matang. Sajikan.\n"
          ]
        }
      ]
    }
  ]
}